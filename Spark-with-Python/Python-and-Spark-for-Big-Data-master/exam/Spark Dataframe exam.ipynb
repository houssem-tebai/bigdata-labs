{
 "cells": [
  {
   "cell_type": "markdown",
   "metadata": {},
   "source": [
    "## Spark Dataframe exam\n",
    "\n",
    "## Save this note-book with your full name and send it to this email adress after finishing the exam \"houcem_eddine.tebai@iteam-univ.tn\"\n",
    "## any submission after 10h30AM 07/05/2022 won't be accepted, good luck everyone\n",
    "\n",
    "    \n",
    "#### Start by creating a Spark session named exam"
   ]
  },
  {
   "cell_type": "code",
   "execution_count": 1,
   "metadata": {},
   "outputs": [],
   "source": []
  },
  {
   "cell_type": "markdown",
   "metadata": {},
   "source": [
    "#### Create a spark dataframe that Reads data from a csv file named \"customer_data.csv\" located in the same directory as this notebook"
   ]
  },
  {
   "cell_type": "code",
   "execution_count": 240,
   "metadata": {},
   "outputs": [],
   "source": []
  },
  {
   "cell_type": "markdown",
   "metadata": {},
   "source": [
    "#### print the numbers of rows that exist in the dataframe"
   ]
  },
  {
   "cell_type": "code",
   "execution_count": 74,
   "metadata": {},
   "outputs": [
    {
     "data": {
      "text/plain": [
       "2000"
      ]
     },
     "execution_count": 74,
     "metadata": {},
     "output_type": "execute_result"
    }
   ],
   "source": []
  },
  {
   "cell_type": "markdown",
   "metadata": {},
   "source": [
    "#### Print the numer of columns that exists in the dataframe"
   ]
  },
  {
   "cell_type": "code",
   "execution_count": 75,
   "metadata": {},
   "outputs": [
    {
     "data": {
      "text/plain": [
       "7"
      ]
     },
     "execution_count": 75,
     "metadata": {},
     "output_type": "execute_result"
    }
   ],
   "source": []
  },
  {
   "cell_type": "markdown",
   "metadata": {},
   "source": [
    "#### show the schema of the Dataframe"
   ]
  },
  {
   "cell_type": "code",
   "execution_count": 66,
   "metadata": {},
   "outputs": [
    {
     "name": "stdout",
     "output_type": "stream",
     "text": [
      "root\n",
      " |-- Customer_subtype: string (nullable = true)\n",
      " |-- Number_of_houses: integer (nullable = true)\n",
      " |-- Avg_size_household: integer (nullable = true)\n",
      " |-- Avg_age: string (nullable = true)\n",
      " |-- Customer_main_type: string (nullable = true)\n",
      " |-- Avg_Salary: integer (nullable = true)\n",
      " |-- label: integer (nullable = true)\n",
      "\n"
     ]
    }
   ],
   "source": []
  },
  {
   "cell_type": "markdown",
   "metadata": {},
   "source": [
    "#### Print the three first rows of the dataframe"
   ]
  },
  {
   "cell_type": "code",
   "execution_count": 67,
   "metadata": {},
   "outputs": [
    {
     "name": "stdout",
     "output_type": "stream",
     "text": [
      "+--------------------+----------------+------------------+-----------+--------------------+----------+-----+\n",
      "|    Customer_subtype|Number_of_houses|Avg_size_household|    Avg_age|  Customer_main_type|Avg_Salary|label|\n",
      "+--------------------+----------------+------------------+-----------+--------------------+----------+-----+\n",
      "|Lower class large...|               1|                 3|30-40 years|Family with grown...|     44905|    0|\n",
      "|Mixed small town ...|               1|                 2|30-40 years|Family with grown...|     37575|    0|\n",
      "|Mixed small town ...|               1|                 2|30-40 years|Family with grown...|     27915|    0|\n",
      "+--------------------+----------------+------------------+-----------+--------------------+----------+-----+\n",
      "only showing top 3 rows\n",
      "\n"
     ]
    }
   ],
   "source": []
  },
  {
   "cell_type": "markdown",
   "metadata": {},
   "source": [
    "#### show the summary of the dataframe"
   ]
  },
  {
   "cell_type": "code",
   "execution_count": 85,
   "metadata": {},
   "outputs": [
    {
     "name": "stdout",
     "output_type": "stream",
     "text": [
      "+-------+--------------------+------------------+------------------+-----------+--------------------+-----------------+------------------+\n",
      "|summary|    Customer_subtype|  Number_of_houses|Avg_size_household|    Avg_age|  Customer_main_type|       Avg_Salary|             label|\n",
      "+-------+--------------------+------------------+------------------+-----------+--------------------+-----------------+------------------+\n",
      "|  count|                2000|              2000|              2000|       2000|                2000|             2000|              2000|\n",
      "|   mean|                null|            1.1075|            2.6895|       null|                null|     1616908.0835|            0.0605|\n",
      "| stddev|                null|0.3873225521186316|0.7914562220841646|       null|                null|6822647.757312146|0.2384705099001677|\n",
      "|    min|Affluent senior a...|                 1|                 1|20-30 years|      Average Family|             1361|                 0|\n",
      "|    25%|                null|                 1|                 2|       null|                null|            20315|                 0|\n",
      "|    50%|                null|                 1|                 3|       null|                null|            31421|                 0|\n",
      "|    75%|                null|                 1|                 3|       null|                null|            42949|                 0|\n",
      "|    max| Young, low educated|                10|                 5|70-80 years|Successful hedonists|         48919896|                 1|\n",
      "+-------+--------------------+------------------+------------------+-----------+--------------------+-----------------+------------------+\n",
      "\n"
     ]
    }
   ],
   "source": []
  },
  {
   "cell_type": "markdown",
   "metadata": {},
   "source": [
    "#### Print the columns 'Customer_subtype' and 'Avg_Salary' from the dataframe"
   ]
  },
  {
   "cell_type": "code",
   "execution_count": 86,
   "metadata": {},
   "outputs": [
    {
     "name": "stdout",
     "output_type": "stream",
     "text": [
      "+--------------------+----------+\n",
      "|    Customer_subtype|Avg_Salary|\n",
      "+--------------------+----------+\n",
      "|Lower class large...|     44905|\n",
      "|Mixed small town ...|     37575|\n",
      "|Mixed small town ...|     27915|\n",
      "|Modern, complete ...|     19504|\n",
      "|  Large family farms|     34943|\n",
      "|    Young and rising|     13064|\n",
      "|Large religious f...|     29090|\n",
      "|Lower class large...|      6895|\n",
      "|Lower class large...|     35497|\n",
      "|     Family starters|     30800|\n",
      "|       Stable family|     39157|\n",
      "|Modern, complete ...|     40839|\n",
      "|Lower class large...|     30008|\n",
      "|        Mixed rurals|     37209|\n",
      "|    Young and rising|     45361|\n",
      "|Lower class large...|     45650|\n",
      "|Traditional families|     18982|\n",
      "|Mixed apartment d...|     30093|\n",
      "|Young all america...|     27097|\n",
      "|Low income catholics|     23511|\n",
      "+--------------------+----------+\n",
      "only showing top 20 rows\n",
      "\n"
     ]
    }
   ],
   "source": []
  },
  {
   "cell_type": "markdown",
   "metadata": {},
   "source": [
    "#### Count the numbers of row where the Avg_Salary is more than > 1000000"
   ]
  },
  {
   "cell_type": "code",
   "execution_count": 96,
   "metadata": {},
   "outputs": [
    {
     "data": {
      "text/plain": [
       "128"
      ]
     },
     "execution_count": 96,
     "metadata": {},
     "output_type": "execute_result"
    }
   ],
   "source": []
  },
  {
   "cell_type": "markdown",
   "metadata": {},
   "source": [
    "#### show the first 20 rows of the dataframe where the Avg_Salary is more than > 1000000"
   ]
  },
  {
   "cell_type": "code",
   "execution_count": 102,
   "metadata": {},
   "outputs": [
    {
     "name": "stdout",
     "output_type": "stream",
     "text": [
      "+--------------------+----------------+------------------+-----------+--------------------+----------+-----+\n",
      "|    Customer_subtype|Number_of_houses|Avg_size_household|    Avg_age|  Customer_main_type|Avg_Salary|label|\n",
      "+--------------------+----------------+------------------+-----------+--------------------+----------+-----+\n",
      "| High status seniors|               1|                 3|40-50 years|Successful hedonists|   4670288|    0|\n",
      "| High status seniors|               1|                 3|50-60 years|Successful hedonists|   9561873|    0|\n",
      "| High status seniors|               1|                 2|40-50 years|Successful hedonists|  18687005|    0|\n",
      "| High status seniors|               1|                 2|40-50 years|Successful hedonists|  24139960|    0|\n",
      "| High status seniors|               1|                 2|50-60 years|Successful hedonists|   6718606|    0|\n",
      "|High Income, expe...|               1|                 3|40-50 years|Successful hedonists|  19347139|    0|\n",
      "|High Income, expe...|               1|                 3|40-50 years|Successful hedonists|   5243902|    0|\n",
      "| High status seniors|               2|                 3|40-50 years|Successful hedonists|   6138618|    0|\n",
      "|High Income, expe...|               1|                 3|50-60 years|Successful hedonists|  24930053|    0|\n",
      "| High status seniors|               1|                 2|50-60 years|Successful hedonists|  12545905|    1|\n",
      "|High Income, expe...|               1|                 3|40-50 years|Successful hedonists|  29976435|    0|\n",
      "| High status seniors|               1|                 2|50-60 years|Successful hedonists|  24639614|    0|\n",
      "| High status seniors|               1|                 2|40-50 years|Successful hedonists|  16073966|    0|\n",
      "|High Income, expe...|               1|                 4|40-50 years|Successful hedonists|  35032441|    1|\n",
      "|High Income, expe...|               1|                 2|50-60 years|Successful hedonists|   8354410|    0|\n",
      "| High status seniors|               1|                 1|60-70 years|Successful hedonists|  20241068|    0|\n",
      "| High status seniors|               1|                 1|50-60 years|Successful hedonists|  45592572|    0|\n",
      "| High status seniors|               1|                 2|50-60 years|Successful hedonists|  10289449|    0|\n",
      "|High Income, expe...|               1|                 2|50-60 years|Successful hedonists|   5586401|    0|\n",
      "| High status seniors|               1|                 2|50-60 years|Successful hedonists|  41699271|    0|\n",
      "+--------------------+----------------+------------------+-----------+--------------------+----------+-----+\n",
      "only showing top 20 rows\n",
      "\n"
     ]
    }
   ],
   "source": []
  },
  {
   "cell_type": "markdown",
   "metadata": {},
   "source": [
    "#### show all the rows of the dataframe where the Avg_Salary is more than > 500000 and the Number_of_houses > 2 using two diffrent approachs "
   ]
  },
  {
   "cell_type": "code",
   "execution_count": 106,
   "metadata": {},
   "outputs": [
    {
     "name": "stdout",
     "output_type": "stream",
     "text": [
      "+--------------------+----------------+------------------+-----------+--------------------+----------+-----+\n",
      "|    Customer_subtype|Number_of_houses|Avg_size_household|    Avg_age|  Customer_main_type|Avg_Salary|label|\n",
      "+--------------------+----------------+------------------+-----------+--------------------+----------+-----+\n",
      "|Affluent senior a...|               3|                 2|50-60 years|Successful hedonists|    596723|    0|\n",
      "|Affluent senior a...|               3|                 2|50-60 years|Successful hedonists|    944444|    0|\n",
      "|Affluent senior a...|               3|                 2|50-60 years|Successful hedonists|    788477|    0|\n",
      "|Affluent senior a...|               3|                 2|50-60 years|Successful hedonists|    994077|    0|\n",
      "+--------------------+----------------+------------------+-----------+--------------------+----------+-----+\n",
      "\n"
     ]
    }
   ],
   "source": []
  },
  {
   "cell_type": "code",
   "execution_count": 107,
   "metadata": {},
   "outputs": [
    {
     "name": "stdout",
     "output_type": "stream",
     "text": [
      "+--------------------+----------------+------------------+-----------+--------------------+----------+-----+\n",
      "|    Customer_subtype|Number_of_houses|Avg_size_household|    Avg_age|  Customer_main_type|Avg_Salary|label|\n",
      "+--------------------+----------------+------------------+-----------+--------------------+----------+-----+\n",
      "|Affluent senior a...|               3|                 2|50-60 years|Successful hedonists|    596723|    0|\n",
      "|Affluent senior a...|               3|                 2|50-60 years|Successful hedonists|    944444|    0|\n",
      "|Affluent senior a...|               3|                 2|50-60 years|Successful hedonists|    788477|    0|\n",
      "|Affluent senior a...|               3|                 2|50-60 years|Successful hedonists|    994077|    0|\n",
      "+--------------------+----------------+------------------+-----------+--------------------+----------+-----+\n",
      "\n"
     ]
    }
   ],
   "source": []
  },
  {
   "cell_type": "markdown",
   "metadata": {},
   "source": [
    "### Aggregations \n",
    "\n",
    "#### Count the number of customer grouped by 'Customer_subtype'"
   ]
  },
  {
   "cell_type": "code",
   "execution_count": 110,
   "metadata": {},
   "outputs": [
    {
     "name": "stdout",
     "output_type": "stream",
     "text": [
      "+--------------------+-----+\n",
      "|    Customer_subtype|count|\n",
      "+--------------------+-----+\n",
      "|Large family, emp...|   56|\n",
      "|Religious elderly...|   47|\n",
      "|Large religious f...|  107|\n",
      "|Modern, complete ...|   93|\n",
      "|    Village families|   68|\n",
      "|Young all america...|   62|\n",
      "|Young urban have-...|    4|\n",
      "|Young seniors in ...|   22|\n",
      "|Fresh masters in ...|    2|\n",
      "|High Income, expe...|   52|\n",
      "|Lower class large...|  288|\n",
      "| Residential elderly|    6|\n",
      "|Senior cosmopolitans|    1|\n",
      "|        Mixed rurals|   67|\n",
      "|Career and childcare|   33|\n",
      "|Low income catholics|   72|\n",
      "|Mixed apartment d...|   34|\n",
      "|Seniors in apartm...|   17|\n",
      "|Middle class fami...|  122|\n",
      "|Traditional families|  129|\n",
      "+--------------------+-----+\n",
      "only showing top 20 rows\n",
      "\n"
     ]
    }
   ],
   "source": []
  },
  {
   "cell_type": "markdown",
   "metadata": {},
   "source": [
    "#### Show the minimum value of column 'Avg_Salary' grouped by 'Customer_main_type'"
   ]
  },
  {
   "cell_type": "code",
   "execution_count": 116,
   "metadata": {},
   "outputs": [
    {
     "name": "stdout",
     "output_type": "stream",
     "text": [
      "+--------------------+---------------+\n",
      "|  Customer_main_type|min(Avg_Salary)|\n",
      "+--------------------+---------------+\n",
      "|             Farmers|          10469|\n",
      "|       Career Loners|          13246|\n",
      "|Retired and Relig...|           1361|\n",
      "|Successful hedonists|          12705|\n",
      "|         Living well|          10418|\n",
      "|      Average Family|          10506|\n",
      "|    Cruising Seniors|          10100|\n",
      "|Conservative fami...|          10179|\n",
      "|      Driven Growers|          10257|\n",
      "|Family with grown...|           1502|\n",
      "+--------------------+---------------+\n",
      "\n"
     ]
    }
   ],
   "source": []
  },
  {
   "cell_type": "markdown",
   "metadata": {},
   "source": [
    "#### Show the maximum value of column 'Avg_Salary' grouped by 'Customer_main_type'"
   ]
  },
  {
   "cell_type": "code",
   "execution_count": 117,
   "metadata": {},
   "outputs": [
    {
     "name": "stdout",
     "output_type": "stream",
     "text": [
      "+--------------------+---------------+\n",
      "|  Customer_main_type|max(Avg_Salary)|\n",
      "+--------------------+---------------+\n",
      "|             Farmers|          49965|\n",
      "|       Career Loners|          49903|\n",
      "|Retired and Relig...|          49564|\n",
      "|Successful hedonists|       48919896|\n",
      "|         Living well|          49816|\n",
      "|      Average Family|         991838|\n",
      "|    Cruising Seniors|          49526|\n",
      "|Conservative fami...|          49965|\n",
      "|      Driven Growers|          49932|\n",
      "|Family with grown...|          49901|\n",
      "+--------------------+---------------+\n",
      "\n"
     ]
    }
   ],
   "source": []
  },
  {
   "cell_type": "markdown",
   "metadata": {},
   "source": [
    "#### Calculate the sum  of values of column 'Avg_Salary' grouped by 'Customer_main_type'"
   ]
  },
  {
   "cell_type": "code",
   "execution_count": 118,
   "metadata": {},
   "outputs": [
    {
     "name": "stdout",
     "output_type": "stream",
     "text": [
      "+--------------------+---------------+\n",
      "|  Customer_main_type|sum(Avg_Salary)|\n",
      "+--------------------+---------------+\n",
      "|             Farmers|        2809468|\n",
      "|       Career Loners|         484089|\n",
      "|Retired and Relig...|        5522439|\n",
      "|Successful hedonists|     3158111161|\n",
      "|         Living well|        5552540|\n",
      "|      Average Family|       32111040|\n",
      "|    Cruising Seniors|        1732220|\n",
      "|Conservative fami...|        6963043|\n",
      "|      Driven Growers|        5292275|\n",
      "|Family with grown...|       15237892|\n",
      "+--------------------+---------------+\n",
      "\n"
     ]
    }
   ],
   "source": []
  },
  {
   "cell_type": "markdown",
   "metadata": {},
   "source": [
    "#### Calculate the average of values of column 'Avg_Salary' grouped by 'Customer_main_type'"
   ]
  },
  {
   "cell_type": "code",
   "execution_count": 119,
   "metadata": {},
   "outputs": [
    {
     "name": "stdout",
     "output_type": "stream",
     "text": [
      "+--------------------+--------------------+\n",
      "|  Customer_main_type|     avg(Avg_Salary)|\n",
      "+--------------------+--------------------+\n",
      "|             Farmers|  30209.333333333332|\n",
      "|       Career Loners|             32272.6|\n",
      "|Retired and Relig...|   27338.80693069307|\n",
      "|Successful hedonists|1.6278923510309279E7|\n",
      "|         Living well|  31194.044943820223|\n",
      "|      Average Family|  104256.62337662338|\n",
      "|    Cruising Seniors|  28870.333333333332|\n",
      "|Conservative fami...|  29504.419491525423|\n",
      "|      Driven Growers|   30769.04069767442|\n",
      "|Family with grown...|  28114.191881918818|\n",
      "+--------------------+--------------------+\n",
      "\n"
     ]
    }
   ],
   "source": []
  },
  {
   "cell_type": "markdown",
   "metadata": {},
   "source": [
    "### Sorting \n",
    "\n",
    "#### Show the dataframe sorted by the column 'Avg_Salary' descending "
   ]
  },
  {
   "cell_type": "code",
   "execution_count": 169,
   "metadata": {},
   "outputs": [
    {
     "name": "stdout",
     "output_type": "stream",
     "text": [
      "+--------------------+----------------+------------------+-----------+--------------------+----------+-----+\n",
      "|    Customer_subtype|Number_of_houses|Avg_size_household|    Avg_age|  Customer_main_type|Avg_Salary|label|\n",
      "+--------------------+----------------+------------------+-----------+--------------------+----------+-----+\n",
      "| High status seniors|               1|                 2|60-70 years|Successful hedonists|  48919896|    0|\n",
      "|High Income, expe...|               1|                 2|50-60 years|Successful hedonists|  48177970|    0|\n",
      "|High Income, expe...|               1|                 2|50-60 years|Successful hedonists|  48069548|    1|\n",
      "|High Income, expe...|               1|                 3|40-50 years|Successful hedonists|  46911924|    0|\n",
      "| High status seniors|               1|                 3|40-50 years|Successful hedonists|  46614009|    0|\n",
      "|High Income, expe...|               1|                 3|30-40 years|Successful hedonists|  45952441|    0|\n",
      "|High Income, expe...|               1|                 3|40-50 years|Successful hedonists|  45864609|    1|\n",
      "| High status seniors|               1|                 1|50-60 years|Successful hedonists|  45592572|    0|\n",
      "| High status seniors|               1|                 2|50-60 years|Successful hedonists|  45170899|    0|\n",
      "|High Income, expe...|               1|                 3|50-60 years|Successful hedonists|  44843830|    0|\n",
      "| High status seniors|               1|                 2|50-60 years|Successful hedonists|  43230349|    0|\n",
      "| High status seniors|               1|                 5|40-50 years|Successful hedonists|  43181830|    0|\n",
      "| High status seniors|               1|                 1|30-40 years|Successful hedonists|  42631926|    0|\n",
      "| High status seniors|               1|                 2|50-60 years|Successful hedonists|  41919020|    0|\n",
      "| High status seniors|               1|                 2|50-60 years|Successful hedonists|  41699271|    0|\n",
      "| High status seniors|               1|                 2|40-50 years|Successful hedonists|  41398953|    0|\n",
      "|High Income, expe...|               1|                 3|40-50 years|Successful hedonists|  41269615|    1|\n",
      "| High status seniors|               1|                 2|50-60 years|Successful hedonists|  41192397|    1|\n",
      "| High status seniors|               1|                 2|40-50 years|Successful hedonists|  40564335|    0|\n",
      "| High status seniors|               1|                 2|50-60 years|Successful hedonists|  40453887|    0|\n",
      "+--------------------+----------------+------------------+-----------+--------------------+----------+-----+\n",
      "only showing top 20 rows\n",
      "\n"
     ]
    }
   ],
   "source": []
  },
  {
   "cell_type": "markdown",
   "metadata": {},
   "source": [
    "#### Create a newu column in the dataframe named constant that contains the constent string 'finance' and persist the changes in the same dataframe"
   ]
  },
  {
   "cell_type": "code",
   "execution_count": 241,
   "metadata": {},
   "outputs": [],
   "source": []
  },
  {
   "cell_type": "markdown",
   "metadata": {},
   "source": [
    "#### show the 20 first rows of the columns 'Customer_subtype' and 'constant'"
   ]
  },
  {
   "cell_type": "code",
   "execution_count": 242,
   "metadata": {},
   "outputs": [
    {
     "name": "stdout",
     "output_type": "stream",
     "text": [
      "+--------------------+--------+\n",
      "|    Customer_subtype|constant|\n",
      "+--------------------+--------+\n",
      "|Lower class large...| finance|\n",
      "|Mixed small town ...| finance|\n",
      "|Mixed small town ...| finance|\n",
      "|Modern, complete ...| finance|\n",
      "|  Large family farms| finance|\n",
      "|    Young and rising| finance|\n",
      "|Large religious f...| finance|\n",
      "|Lower class large...| finance|\n",
      "|Lower class large...| finance|\n",
      "|     Family starters| finance|\n",
      "|       Stable family| finance|\n",
      "|Modern, complete ...| finance|\n",
      "|Lower class large...| finance|\n",
      "|        Mixed rurals| finance|\n",
      "|    Young and rising| finance|\n",
      "|Lower class large...| finance|\n",
      "|Traditional families| finance|\n",
      "|Mixed apartment d...| finance|\n",
      "|Young all america...| finance|\n",
      "|Low income catholics| finance|\n",
      "+--------------------+--------+\n",
      "only showing top 20 rows\n",
      "\n"
     ]
    }
   ],
   "source": []
  }
 ],
 "metadata": {
  "kernelspec": {
   "display_name": "Python 3",
   "language": "python",
   "name": "python3"
  },
  "language_info": {
   "codemirror_mode": {
    "name": "ipython",
    "version": 3
   },
   "file_extension": ".py",
   "mimetype": "text/x-python",
   "name": "python",
   "nbconvert_exporter": "python",
   "pygments_lexer": "ipython3",
   "version": "3.7.0"
  },
  "name": "Data Wrangling using DataFrames",
  "notebookId": 1751261886603334
 },
 "nbformat": 4,
 "nbformat_minor": 1
}
